{
  "nbformat": 4,
  "nbformat_minor": 0,
  "metadata": {
    "colab": {
      "provenance": []
    },
    "kernelspec": {
      "name": "python3",
      "display_name": "Python 3"
    },
    "language_info": {
      "name": "python"
    }
  },
  "cells": [
    {
      "cell_type": "code",
      "execution_count": 1,
      "metadata": {
        "id": "brWvAoy54ZE2"
      },
      "outputs": [],
      "source": [
        "#import numpy and pandas\n",
        "import pandas as pd\n",
        "import numpy as np"
      ]
    },
    {
      "cell_type": "markdown",
      "source": [
        "Mount Drive\n"
      ],
      "metadata": {
        "id": "8xZm6vYn-fvZ"
      }
    },
    {
      "cell_type": "code",
      "source": [
        "from google.colab import drive\n",
        "drive.mount('/content/drive')"
      ],
      "metadata": {
        "colab": {
          "base_uri": "https://localhost:8080/"
        },
        "id": "sLhr8olO-igx",
        "outputId": "9e2806c5-0130-447c-e2c0-5fc4d8274d74"
      },
      "execution_count": 2,
      "outputs": [
        {
          "output_type": "stream",
          "name": "stdout",
          "text": [
            "Mounted at /content/drive\n"
          ]
        }
      ]
    },
    {
      "cell_type": "markdown",
      "source": [
        "Read Train Data"
      ],
      "metadata": {
        "id": "TqKSDvZo_BEQ"
      }
    },
    {
      "cell_type": "code",
      "source": [
        "df=pd.read_csv('/content/drive/MyDrive/SPL-3/sentiment.csv')\n",
        "df = df.sample(frac = 1 , random_state = 1).reset_index(drop=True)\n",
        "df.head()"
      ],
      "metadata": {
        "colab": {
          "base_uri": "https://localhost:8080/",
          "height": 206
        },
        "id": "9Q4Oogj9_EqT",
        "outputId": "1f8a2fae-e4e6-4633-dc10-7f3a3b57182d"
      },
      "execution_count": 3,
      "outputs": [
        {
          "output_type": "execute_result",
          "data": {
            "text/plain": [
              "                                            sentence  sentiment\n",
              "0              সাকিব কে চাই খেলাতেসাকিব ছাড়া মানি না          1\n",
              "1  সবার কাছে অনুরোধ বিষয়টা শেয়ার করুন সারাদেশ জান...          0\n",
              "2    এই পাপন সভাপতি হওয়ার পর থেকে ক্রিকেটের দুরবস্থা          0\n",
              "3  ধন্যবাদ বিবিসি বাংলাকে নির্যাতিত সাংবাদিকদের প...          1\n",
              "4  ডজাকির নায়েক বর্তমান সময়ের সবচেয়ে ভালো মুসলিম ...          1"
            ],
            "text/html": [
              "\n",
              "  <div id=\"df-5ad6125d-6d8a-4a70-804f-b6036ffabb33\">\n",
              "    <div class=\"colab-df-container\">\n",
              "      <div>\n",
              "<style scoped>\n",
              "    .dataframe tbody tr th:only-of-type {\n",
              "        vertical-align: middle;\n",
              "    }\n",
              "\n",
              "    .dataframe tbody tr th {\n",
              "        vertical-align: top;\n",
              "    }\n",
              "\n",
              "    .dataframe thead th {\n",
              "        text-align: right;\n",
              "    }\n",
              "</style>\n",
              "<table border=\"1\" class=\"dataframe\">\n",
              "  <thead>\n",
              "    <tr style=\"text-align: right;\">\n",
              "      <th></th>\n",
              "      <th>sentence</th>\n",
              "      <th>sentiment</th>\n",
              "    </tr>\n",
              "  </thead>\n",
              "  <tbody>\n",
              "    <tr>\n",
              "      <th>0</th>\n",
              "      <td>সাকিব কে চাই খেলাতেসাকিব ছাড়া মানি না</td>\n",
              "      <td>1</td>\n",
              "    </tr>\n",
              "    <tr>\n",
              "      <th>1</th>\n",
              "      <td>সবার কাছে অনুরোধ বিষয়টা শেয়ার করুন সারাদেশ জান...</td>\n",
              "      <td>0</td>\n",
              "    </tr>\n",
              "    <tr>\n",
              "      <th>2</th>\n",
              "      <td>এই পাপন সভাপতি হওয়ার পর থেকে ক্রিকেটের দুরবস্থা</td>\n",
              "      <td>0</td>\n",
              "    </tr>\n",
              "    <tr>\n",
              "      <th>3</th>\n",
              "      <td>ধন্যবাদ বিবিসি বাংলাকে নির্যাতিত সাংবাদিকদের প...</td>\n",
              "      <td>1</td>\n",
              "    </tr>\n",
              "    <tr>\n",
              "      <th>4</th>\n",
              "      <td>ডজাকির নায়েক বর্তমান সময়ের সবচেয়ে ভালো মুসলিম ...</td>\n",
              "      <td>1</td>\n",
              "    </tr>\n",
              "  </tbody>\n",
              "</table>\n",
              "</div>\n",
              "      <button class=\"colab-df-convert\" onclick=\"convertToInteractive('df-5ad6125d-6d8a-4a70-804f-b6036ffabb33')\"\n",
              "              title=\"Convert this dataframe to an interactive table.\"\n",
              "              style=\"display:none;\">\n",
              "        \n",
              "  <svg xmlns=\"http://www.w3.org/2000/svg\" height=\"24px\"viewBox=\"0 0 24 24\"\n",
              "       width=\"24px\">\n",
              "    <path d=\"M0 0h24v24H0V0z\" fill=\"none\"/>\n",
              "    <path d=\"M18.56 5.44l.94 2.06.94-2.06 2.06-.94-2.06-.94-.94-2.06-.94 2.06-2.06.94zm-11 1L8.5 8.5l.94-2.06 2.06-.94-2.06-.94L8.5 2.5l-.94 2.06-2.06.94zm10 10l.94 2.06.94-2.06 2.06-.94-2.06-.94-.94-2.06-.94 2.06-2.06.94z\"/><path d=\"M17.41 7.96l-1.37-1.37c-.4-.4-.92-.59-1.43-.59-.52 0-1.04.2-1.43.59L10.3 9.45l-7.72 7.72c-.78.78-.78 2.05 0 2.83L4 21.41c.39.39.9.59 1.41.59.51 0 1.02-.2 1.41-.59l7.78-7.78 2.81-2.81c.8-.78.8-2.07 0-2.86zM5.41 20L4 18.59l7.72-7.72 1.47 1.35L5.41 20z\"/>\n",
              "  </svg>\n",
              "      </button>\n",
              "      \n",
              "  <style>\n",
              "    .colab-df-container {\n",
              "      display:flex;\n",
              "      flex-wrap:wrap;\n",
              "      gap: 12px;\n",
              "    }\n",
              "\n",
              "    .colab-df-convert {\n",
              "      background-color: #E8F0FE;\n",
              "      border: none;\n",
              "      border-radius: 50%;\n",
              "      cursor: pointer;\n",
              "      display: none;\n",
              "      fill: #1967D2;\n",
              "      height: 32px;\n",
              "      padding: 0 0 0 0;\n",
              "      width: 32px;\n",
              "    }\n",
              "\n",
              "    .colab-df-convert:hover {\n",
              "      background-color: #E2EBFA;\n",
              "      box-shadow: 0px 1px 2px rgba(60, 64, 67, 0.3), 0px 1px 3px 1px rgba(60, 64, 67, 0.15);\n",
              "      fill: #174EA6;\n",
              "    }\n",
              "\n",
              "    [theme=dark] .colab-df-convert {\n",
              "      background-color: #3B4455;\n",
              "      fill: #D2E3FC;\n",
              "    }\n",
              "\n",
              "    [theme=dark] .colab-df-convert:hover {\n",
              "      background-color: #434B5C;\n",
              "      box-shadow: 0px 1px 3px 1px rgba(0, 0, 0, 0.15);\n",
              "      filter: drop-shadow(0px 1px 2px rgba(0, 0, 0, 0.3));\n",
              "      fill: #FFFFFF;\n",
              "    }\n",
              "  </style>\n",
              "\n",
              "      <script>\n",
              "        const buttonEl =\n",
              "          document.querySelector('#df-5ad6125d-6d8a-4a70-804f-b6036ffabb33 button.colab-df-convert');\n",
              "        buttonEl.style.display =\n",
              "          google.colab.kernel.accessAllowed ? 'block' : 'none';\n",
              "\n",
              "        async function convertToInteractive(key) {\n",
              "          const element = document.querySelector('#df-5ad6125d-6d8a-4a70-804f-b6036ffabb33');\n",
              "          const dataTable =\n",
              "            await google.colab.kernel.invokeFunction('convertToInteractive',\n",
              "                                                     [key], {});\n",
              "          if (!dataTable) return;\n",
              "\n",
              "          const docLinkHtml = 'Like what you see? Visit the ' +\n",
              "            '<a target=\"_blank\" href=https://colab.research.google.com/notebooks/data_table.ipynb>data table notebook</a>'\n",
              "            + ' to learn more about interactive tables.';\n",
              "          element.innerHTML = '';\n",
              "          dataTable['output_type'] = 'display_data';\n",
              "          await google.colab.output.renderOutput(dataTable, element);\n",
              "          const docLink = document.createElement('div');\n",
              "          docLink.innerHTML = docLinkHtml;\n",
              "          element.appendChild(docLink);\n",
              "        }\n",
              "      </script>\n",
              "    </div>\n",
              "  </div>\n",
              "  "
            ]
          },
          "metadata": {},
          "execution_count": 3
        }
      ]
    },
    {
      "cell_type": "code",
      "source": [
        "df[\"sentiment\"].value_counts()"
      ],
      "metadata": {
        "colab": {
          "base_uri": "https://localhost:8080/"
        },
        "id": "wwpWJw5z_5xA",
        "outputId": "35ddfd8a-d8b9-4bf2-f86a-51c0e6f403ac"
      },
      "execution_count": 4,
      "outputs": [
        {
          "output_type": "execute_result",
          "data": {
            "text/plain": [
              "0    3615\n",
              "1    3037\n",
              "Name: sentiment, dtype: int64"
            ]
          },
          "metadata": {},
          "execution_count": 4
        }
      ]
    },
    {
      "cell_type": "code",
      "source": [
        "import seaborn as sns\n",
        "import matplotlib.pyplot as plt"
      ],
      "metadata": {
        "id": "aUEzuDxQBJS4"
      },
      "execution_count": 6,
      "outputs": []
    },
    {
      "cell_type": "code",
      "source": [
        "# sns.set(style=\"darkgrid\")\n",
        "sns.countplot(df[\"sentiment\"])\n",
        "plt.xlabel(\"Sentiment\")\n",
        "plt.ylabel(\"Count\")\n",
        "plt.title(\"Sentiment Distribution\")\n",
        "plt.xticks([0, 1], [\"Negative\", \"Positive\"])  # Customizing x-axis labels\n",
        "plt.show()"
      ],
      "metadata": {
        "colab": {
          "base_uri": "https://localhost:8080/",
          "height": 480
        },
        "id": "MyYitD6RCY77",
        "outputId": "5876a486-e01b-494f-87a7-7c27681ca59c"
      },
      "execution_count": 10,
      "outputs": [
        {
          "output_type": "display_data",
          "data": {
            "text/plain": [
              "<Figure size 640x480 with 1 Axes>"
            ],
            "image/png": "[encoded data removed]"
          },
          "metadata": {}
        }
      ]
    },
    {
      "cell_type": "code",
      "source": [
        "df.shape"
      ],
      "metadata": {
        "colab": {
          "base_uri": "https://localhost:8080/"
        },
        "id": "OUKZOTz7AInB",
        "outputId": "107f92ec-8768-4646-fa6d-d5d7775b1d38"
      },
      "execution_count": 13,
      "outputs": [
        {
          "output_type": "execute_result",
          "data": {
            "text/plain": [
              "(6652, 2)"
            ]
          },
          "metadata": {},
          "execution_count": 13
        }
      ]
    },
    {
      "cell_type": "code",
      "source": [
        "df.info()"
      ],
      "metadata": {
        "colab": {
          "base_uri": "https://localhost:8080/"
        },
        "id": "B9-HYVsbARX5",
        "outputId": "7cd7058d-ba2e-4a50-9ef8-07ecededeb3c"
      },
      "execution_count": 14,
      "outputs": [
        {
          "output_type": "stream",
          "name": "stdout",
          "text": [
            "<class 'pandas.core.frame.DataFrame'>\n",
            "RangeIndex: 6652 entries, 0 to 6651\n",
            "Data columns (total 2 columns):\n",
            " #   Column     Non-Null Count  Dtype \n",
            "---  ------     --------------  ----- \n",
            " 0   sentence   6652 non-null   object\n",
            " 1   sentiment  6652 non-null   int64 \n",
            "dtypes: int64(1), object(1)\n",
            "memory usage: 104.1+ KB\n"
          ]
        }
      ]
    },
    {
      "cell_type": "code",
      "source": [
        "df.isnull().sum()"
      ],
      "metadata": {
        "colab": {
          "base_uri": "https://localhost:8080/"
        },
        "id": "V2Qo1up5AVob",
        "outputId": "29e3491b-31de-4bb4-e1f7-ce5c8a673206"
      },
      "execution_count": 15,
      "outputs": [
        {
          "output_type": "execute_result",
          "data": {
            "text/plain": [
              "sentence     0\n",
              "sentiment    0\n",
              "dtype: int64"
            ]
          },
          "metadata": {},
          "execution_count": 15
        }
      ]
    },
    {
      "cell_type": "markdown",
      "source": [
        "Install bnltk library"
      ],
      "metadata": {
        "id": "aAEIZJa2Auyi"
      }
    },
    {
      "cell_type": "code",
      "source": [
        "pip install bnltk"
      ],
      "metadata": {
        "colab": {
          "base_uri": "https://localhost:8080/"
        },
        "id": "cas_LhHwAhs6",
        "outputId": "f665abc9-bb5e-4ab8-f9e8-af6bca3ddc5d"
      },
      "execution_count": 16,
      "outputs": [
        {
          "output_type": "stream",
          "name": "stdout",
          "text": [
            "Looking in indexes: https://pypi.org/simple, https://us-python.pkg.dev/colab-wheels/public/simple/\n",
            "Collecting bnltk\n",
            "  Downloading bnltk-0.7.6-py3-none-any.whl (11 kB)\n",
            "Requirement already satisfied: keras in /usr/local/lib/python3.10/dist-packages (from bnltk) (2.12.0)\n",
            "Requirement already satisfied: tensorflow in /usr/local/lib/python3.10/dist-packages (from bnltk) (2.12.0)\n",
            "Requirement already satisfied: numpy in /usr/local/lib/python3.10/dist-packages (from bnltk) (1.22.4)\n",
            "Collecting sklearn (from bnltk)\n",
            "  Downloading sklearn-0.0.post5.tar.gz (3.7 kB)\n",
            "  Preparing metadata (setup.py) ... \u001b[?25l\u001b[?25hdone\n",
            "Requirement already satisfied: requests in /usr/local/lib/python3.10/dist-packages (from bnltk) (2.27.1)\n",
            "Requirement already satisfied: urllib3<1.27,>=1.21.1 in /usr/local/lib/python3.10/dist-packages (from requests->bnltk) (1.26.15)\n",
            "Requirement already satisfied: certifi>=2017.4.17 in /usr/local/lib/python3.10/dist-packages (from requests->bnltk) (2022.12.7)\n",
            "Requirement already satisfied: charset-normalizer~=2.0.0 in /usr/local/lib/python3.10/dist-packages (from requests->bnltk) (2.0.12)\n",
            "Requirement already satisfied: idna<4,>=2.5 in /usr/local/lib/python3.10/dist-packages (from requests->bnltk) (3.4)\n",
            "Requirement already satisfied: absl-py>=1.0.0 in /usr/local/lib/python3.10/dist-packages (from tensorflow->bnltk) (1.4.0)\n",
            "Requirement already satisfied: astunparse>=1.6.0 in /usr/local/lib/python3.10/dist-packages (from tensorflow->bnltk) (1.6.3)\n",
            "Requirement already satisfied: flatbuffers>=2.0 in /usr/local/lib/python3.10/dist-packages (from tensorflow->bnltk) (23.3.3)\n",
            "Requirement already satisfied: gast<=0.4.0,>=0.2.1 in /usr/local/lib/python3.10/dist-packages (from tensorflow->bnltk) (0.4.0)\n",
            "Requirement already satisfied: google-pasta>=0.1.1 in /usr/local/lib/python3.10/dist-packages (from tensorflow->bnltk) (0.2.0)\n",
            "Requirement already satisfied: grpcio<2.0,>=1.24.3 in /usr/local/lib/python3.10/dist-packages (from tensorflow->bnltk) (1.54.0)\n",
            "Requirement already satisfied: h5py>=2.9.0 in /usr/local/lib/python3.10/dist-packages (from tensorflow->bnltk) (3.8.0)\n",
            "Requirement already satisfied: jax>=0.3.15 in /usr/local/lib/python3.10/dist-packages (from tensorflow->bnltk) (0.4.10)\n",
            "Requirement already satisfied: libclang>=13.0.0 in /usr/local/lib/python3.10/dist-packages (from tensorflow->bnltk) (16.0.0)\n",
            "Requirement already satisfied: opt-einsum>=2.3.2 in /usr/local/lib/python3.10/dist-packages (from tensorflow->bnltk) (3.3.0)\n",
            "Requirement already satisfied: packaging in /usr/local/lib/python3.10/dist-packages (from tensorflow->bnltk) (23.1)\n",
            "Requirement already satisfied: protobuf!=4.21.0,!=4.21.1,!=4.21.2,!=4.21.3,!=4.21.4,!=4.21.5,<5.0.0dev,>=3.20.3 in /usr/local/lib/python3.10/dist-packages (from tensorflow->bnltk) (3.20.3)\n",
            "Requirement already satisfied: setuptools in /usr/local/lib/python3.10/dist-packages (from tensorflow->bnltk) (67.7.2)\n",
            "Requirement already satisfied: six>=1.12.0 in /usr/local/lib/python3.10/dist-packages (from tensorflow->bnltk) (1.16.0)\n",
            "Requirement already satisfied: tensorboard<2.13,>=2.12 in /usr/local/lib/python3.10/dist-packages (from tensorflow->bnltk) (2.12.2)\n",
            "Requirement already satisfied: tensorflow-estimator<2.13,>=2.12.0 in /usr/local/lib/python3.10/dist-packages (from tensorflow->bnltk) (2.12.0)\n",
            "Requirement already satisfied: termcolor>=1.1.0 in /usr/local/lib/python3.10/dist-packages (from tensorflow->bnltk) (2.3.0)\n",
            "Requirement already satisfied: typing-extensions>=3.6.6 in /usr/local/lib/python3.10/dist-packages (from tensorflow->bnltk) (4.5.0)\n",
            "Requirement already satisfied: wrapt<1.15,>=1.11.0 in /usr/local/lib/python3.10/dist-packages (from tensorflow->bnltk) (1.14.1)\n",
            "Requirement already satisfied: tensorflow-io-gcs-filesystem>=0.23.1 in /usr/local/lib/python3.10/dist-packages (from tensorflow->bnltk) (0.32.0)\n",
            "Requirement already satisfied: wheel<1.0,>=0.23.0 in /usr/local/lib/python3.10/dist-packages (from astunparse>=1.6.0->tensorflow->bnltk) (0.40.0)\n",
            "Requirement already satisfied: ml-dtypes>=0.1.0 in /usr/local/lib/python3.10/dist-packages (from jax>=0.3.15->tensorflow->bnltk) (0.1.0)\n",
            "Requirement already satisfied: scipy>=1.7 in /usr/local/lib/python3.10/dist-packages (from jax>=0.3.15->tensorflow->bnltk) (1.10.1)\n",
            "Requirement already satisfied: google-auth<3,>=1.6.3 in /usr/local/lib/python3.10/dist-packages (from tensorboard<2.13,>=2.12->tensorflow->bnltk) (2.17.3)\n",
            "Requirement already satisfied: google-auth-oauthlib<1.1,>=0.5 in /usr/local/lib/python3.10/dist-packages (from tensorboard<2.13,>=2.12->tensorflow->bnltk) (1.0.0)\n",
            "Requirement already satisfied: markdown>=2.6.8 in /usr/local/lib/python3.10/dist-packages (from tensorboard<2.13,>=2.12->tensorflow->bnltk) (3.4.3)\n",
            "Requirement already satisfied: tensorboard-data-server<0.8.0,>=0.7.0 in /usr/local/lib/python3.10/dist-packages (from tensorboard<2.13,>=2.12->tensorflow->bnltk) (0.7.0)\n",
            "Requirement already satisfied: tensorboard-plugin-wit>=1.6.0 in /usr/local/lib/python3.10/dist-packages (from tensorboard<2.13,>=2.12->tensorflow->bnltk) (1.8.1)\n",
            "Requirement already satisfied: werkzeug>=1.0.1 in /usr/local/lib/python3.10/dist-packages (from tensorboard<2.13,>=2.12->tensorflow->bnltk) (2.3.0)\n",
            "Requirement already satisfied: cachetools<6.0,>=2.0.0 in /usr/local/lib/python3.10/dist-packages (from google-auth<3,>=1.6.3->tensorboard<2.13,>=2.12->tensorflow->bnltk) (5.3.0)\n",
            "Requirement already satisfied: pyasn1-modules>=0.2.1 in /usr/local/lib/python3.10/dist-packages (from google-auth<3,>=1.6.3->tensorboard<2.13,>=2.12->tensorflow->bnltk) (0.3.0)\n",
            "Requirement already satisfied: rsa<5,>=3.1.4 in /usr/local/lib/python3.10/dist-packages (from google-auth<3,>=1.6.3->tensorboard<2.13,>=2.12->tensorflow->bnltk) (4.9)\n",
            "Requirement already satisfied: requests-oauthlib>=0.7.0 in /usr/local/lib/python3.10/dist-packages (from google-auth-oauthlib<1.1,>=0.5->tensorboard<2.13,>=2.12->tensorflow->bnltk) (1.3.1)\n",
            "Requirement already satisfied: MarkupSafe>=2.1.1 in /usr/local/lib/python3.10/dist-packages (from werkzeug>=1.0.1->tensorboard<2.13,>=2.12->tensorflow->bnltk) (2.1.2)\n",
            "Requirement already satisfied: pyasn1<0.6.0,>=0.4.6 in /usr/local/lib/python3.10/dist-packages (from pyasn1-modules>=0.2.1->google-auth<3,>=1.6.3->tensorboard<2.13,>=2.12->tensorflow->bnltk) (0.5.0)\n",
            "Requirement already satisfied: oauthlib>=3.0.0 in /usr/local/lib/python3.10/dist-packages (from requests-oauthlib>=0.7.0->google-auth-oauthlib<1.1,>=0.5->tensorboard<2.13,>=2.12->tensorflow->bnltk) (3.2.2)\n",
            "Building wheels for collected packages: sklearn\n",
            "  Building wheel for sklearn (setup.py) ... \u001b[?25l\u001b[?25hdone\n",
            "  Created wheel for sklearn: filename=sklearn-0.0.post5-py3-none-any.whl size=2950 sha256=1b68a1512a78f1029cfd5d9b508648143c9bcb3a4cabc800b6fa40fd9b68aad3\n",
            "  Stored in directory: /root/.cache/pip/wheels/38/1f/8d/4f812c590e074c1e928f5cec67bf5053b71f38e2648739403a\n",
            "Successfully built sklearn\n",
            "Installing collected packages: sklearn, bnltk\n",
            "Successfully installed bnltk-0.7.6 sklearn-0.0.post5\n"
          ]
        }
      ]
    },
    {
      "cell_type": "markdown",
      "source": [
        "**Tokenize**"
      ],
      "metadata": {
        "id": "cx9pRPysA2h2"
      }
    },
    {
      "cell_type": "code",
      "source": [
        "from bnltk.tokenize import Tokenizers\n",
        "\n",
        "t = Tokenizers()\n",
        "print(t.bn_word_tokenizer(\"আর্জেন্টিনা দক্ষিণ আমেরিকার একটি রাষ্ট্র। বুয়েনোস আইরেস দেশটির বৃহত্তম শহর ও রাজধানী।\"))"
      ],
      "metadata": {
        "colab": {
          "base_uri": "https://localhost:8080/"
        },
        "id": "cB1pRxV-A6Fx",
        "outputId": "4e80a47b-7ace-49de-b31a-b1e6ec416c7c"
      },
      "execution_count": 17,
      "outputs": [
        {
          "output_type": "stream",
          "name": "stdout",
          "text": [
            "['আর্জেন্টিনা', 'দক্ষিণ', 'আমেরিকার', 'একটি', 'রাষ্ট্র', 'বুয়েনোস', 'আইরেস', 'দেশটির', 'বৃহত্তম', 'শহর', 'ও', 'রাজধানী']\n"
          ]
        }
      ]
    },
    {
      "cell_type": "markdown",
      "source": [
        "**Stemming**"
      ],
      "metadata": {
        "id": "Dbkfh60WBHcv"
      }
    },
    {
      "cell_type": "code",
      "source": [
        "from bnltk.stemmer import BanglaStemmer\n",
        "bn_stemmer = BanglaStemmer()\n",
        "print(bn_stemmer.stem('ক্রিকেটের'))"
      ],
      "metadata": {
        "colab": {
          "base_uri": "https://localhost:8080/"
        },
        "id": "8XqJ7Mn0BKP0",
        "outputId": "239162a0-47f1-412e-8437-ed135fd4dd2f"
      },
      "execution_count": 18,
      "outputs": [
        {
          "output_type": "stream",
          "name": "stdout",
          "text": [
            "ক্রিকেট\n"
          ]
        }
      ]
    },
    {
      "cell_type": "code",
      "source": [
        "pip install bnlp_toolkit"
      ],
      "metadata": {
        "colab": {
          "base_uri": "https://localhost:8080/"
        },
        "id": "25azScNXBRWe",
        "outputId": "4c8577b3-a566-4b0f-f568-6070555cc755"
      },
      "execution_count": 20,
      "outputs": [
        {
          "output_type": "stream",
          "name": "stdout",
          "text": [
            "Looking in indexes: https://pypi.org/simple, https://us-python.pkg.dev/colab-wheels/public/simple/\n",
            "Collecting bnlp_toolkit\n",
            "  Downloading bnlp_toolkit-3.3.1-py3-none-any.whl (22 kB)\n",
            "Collecting sentencepiece (from bnlp_toolkit)\n",
            "  Downloading sentencepiece-0.1.99-cp310-cp310-manylinux_2_17_x86_64.manylinux2014_x86_64.whl (1.3 MB)\n",
            "\u001b[2K     \u001b[90m━━━━━━━━━━━━━━━━━━━━━━━━━━━━━━━━━━━━━━━━\u001b[0m \u001b[32m1.3/1.3 MB\u001b[0m \u001b[31m25.5 MB/s\u001b[0m eta \u001b[36m0:00:00\u001b[0m\n",
            "\u001b[?25hRequirement already satisfied: gensim in /usr/local/lib/python3.10/dist-packages (from bnlp_toolkit) (4.3.1)\n",
            "Requirement already satisfied: nltk in /usr/local/lib/python3.10/dist-packages (from bnlp_toolkit) (3.8.1)\n",
            "Requirement already satisfied: numpy in /usr/local/lib/python3.10/dist-packages (from bnlp_toolkit) (1.22.4)\n",
            "Requirement already satisfied: scipy in /usr/local/lib/python3.10/dist-packages (from bnlp_toolkit) (1.10.1)\n",
            "Collecting sklearn-crfsuite (from bnlp_toolkit)\n",
            "  Downloading sklearn_crfsuite-0.3.6-py2.py3-none-any.whl (12 kB)\n",
            "Requirement already satisfied: tqdm in /usr/local/lib/python3.10/dist-packages (from bnlp_toolkit) (4.65.0)\n",
            "Collecting ftfy (from bnlp_toolkit)\n",
            "  Downloading ftfy-6.1.1-py3-none-any.whl (53 kB)\n",
            "\u001b[2K     \u001b[90m━━━━━━━━━━━━━━━━━━━━━━━━━━━━━━━━━━━━━━━━\u001b[0m \u001b[32m53.1/53.1 kB\u001b[0m \u001b[31m6.4 MB/s\u001b[0m eta \u001b[36m0:00:00\u001b[0m\n",
            "\u001b[?25hCollecting emoji==1.7.0 (from bnlp_toolkit)\n",
            "  Downloading emoji-1.7.0.tar.gz (175 kB)\n",
            "\u001b[2K     \u001b[90m━━━━━━━━━━━━━━━━━━━━━━━━━━━━━━━━━━━━━━\u001b[0m \u001b[32m175.4/175.4 kB\u001b[0m \u001b[31m20.9 MB/s\u001b[0m eta \u001b[36m0:00:00\u001b[0m\n",
            "\u001b[?25h  Preparing metadata (setup.py) ... \u001b[?25l\u001b[?25hdone\n",
            "Requirement already satisfied: wcwidth>=0.2.5 in /usr/local/lib/python3.10/dist-packages (from ftfy->bnlp_toolkit) (0.2.6)\n",
            "Requirement already satisfied: smart-open>=1.8.1 in /usr/local/lib/python3.10/dist-packages (from gensim->bnlp_toolkit) (6.3.0)\n",
            "Requirement already satisfied: click in /usr/local/lib/python3.10/dist-packages (from nltk->bnlp_toolkit) (8.1.3)\n",
            "Requirement already satisfied: joblib in /usr/local/lib/python3.10/dist-packages (from nltk->bnlp_toolkit) (1.2.0)\n",
            "Requirement already satisfied: regex>=2021.8.3 in /usr/local/lib/python3.10/dist-packages (from nltk->bnlp_toolkit) (2022.10.31)\n",
            "Collecting python-crfsuite>=0.8.3 (from sklearn-crfsuite->bnlp_toolkit)\n",
            "  Downloading python_crfsuite-0.9.9-cp310-cp310-manylinux_2_17_x86_64.manylinux2014_x86_64.whl (993 kB)\n",
            "\u001b[2K     \u001b[90m━━━━━━━━━━━━━━━━━━━━━━━━━━━━━━━━━━━━━━\u001b[0m \u001b[32m993.5/993.5 kB\u001b[0m \u001b[31m64.8 MB/s\u001b[0m eta \u001b[36m0:00:00\u001b[0m\n",
            "\u001b[?25hRequirement already satisfied: six in /usr/local/lib/python3.10/dist-packages (from sklearn-crfsuite->bnlp_toolkit) (1.16.0)\n",
            "Requirement already satisfied: tabulate in /usr/local/lib/python3.10/dist-packages (from sklearn-crfsuite->bnlp_toolkit) (0.8.10)\n",
            "Building wheels for collected packages: emoji\n",
            "  Building wheel for emoji (setup.py) ... \u001b[?25l\u001b[?25hdone\n",
            "  Created wheel for emoji: filename=emoji-1.7.0-py3-none-any.whl size=171033 sha256=66d3bdbc99ed626cc16a9a5898f696ccc16ada70ade5da2c23f48dc22cc4fe07\n",
            "  Stored in directory: /root/.cache/pip/wheels/31/8a/8c/315c9e5d7773f74b33d5ed33f075b49c6eaeb7cedbb86e2cf8\n",
            "Successfully built emoji\n",
            "Installing collected packages: sentencepiece, python-crfsuite, emoji, sklearn-crfsuite, ftfy, bnlp_toolkit\n",
            "Successfully installed bnlp_toolkit-3.3.1 emoji-1.7.0 ftfy-6.1.1 python-crfsuite-0.9.9 sentencepiece-0.1.99 sklearn-crfsuite-0.3.6\n"
          ]
        }
      ]
    },
    {
      "cell_type": "markdown",
      "source": [
        "Use bnlp tokenizer"
      ],
      "metadata": {
        "id": "FK4dgsvLBl35"
      }
    },
    {
      "cell_type": "code",
      "source": [
        "from bnlp import BasicTokenizer\n",
        "from bnlp import NLTKTokenizer\n",
        "tk = NLTKTokenizer()\n",
        "text = \"আর্জেন্টিনা দক্ষিণ আমেরিকার একটি রাষ্ট্র। বুয়েনোস আইরেস দেশটির বৃহত্তম শহর ও রাজধানী।\"\n",
        "word_tokens = tk.word_tokenize(text)\n",
        "word_tokens"
      ],
      "metadata": {
        "colab": {
          "base_uri": "https://localhost:8080/"
        },
        "id": "ft8JuHopBpu_",
        "outputId": "21ce6e45-a976-4b36-8617-f0e6bbf3fb9f"
      },
      "execution_count": 21,
      "outputs": [
        {
          "output_type": "stream",
          "name": "stdout",
          "text": [
            "punkt not found. downloading...\n"
          ]
        },
        {
          "output_type": "stream",
          "name": "stderr",
          "text": [
            "[nltk_data] Downloading package punkt to /root/nltk_data...\n",
            "[nltk_data]   Unzipping tokenizers/punkt.zip.\n"
          ]
        },
        {
          "output_type": "execute_result",
          "data": {
            "text/plain": [
              "['আর্জেন্টিনা',\n",
              " 'দক্ষিণ',\n",
              " 'আমেরিকার',\n",
              " 'একটি',\n",
              " 'রাষ্ট্র',\n",
              " '।',\n",
              " 'বুয়েনোস',\n",
              " 'আইরেস',\n",
              " 'দেশটির',\n",
              " 'বৃহত্তম',\n",
              " 'শহর',\n",
              " 'ও',\n",
              " 'রাজধানী',\n",
              " '।']"
            ]
          },
          "metadata": {},
          "execution_count": 21
        }
      ]
    },
    {
      "cell_type": "markdown",
      "source": [
        "get stopwords,punctuation,letter,digits"
      ],
      "metadata": {
        "id": "JTejbbDOB4SA"
      }
    },
    {
      "cell_type": "code",
      "source": [
        "from bnlp.corpus import stopwords, punctuations, letters, digits"
      ],
      "metadata": {
        "id": "TgxLEWCYCC8f"
      },
      "execution_count": 22,
      "outputs": []
    },
    {
      "cell_type": "code",
      "source": [
        "from wordcloud import WordCloud\n",
        "import matplotlib.pyplot as plt"
      ],
      "metadata": {
        "id": "V7KuSvEtEaTP"
      },
      "execution_count": 23,
      "outputs": []
    },
    {
      "cell_type": "code",
      "source": [
        "df.sentence[2]"
      ],
      "metadata": {
        "colab": {
          "base_uri": "https://localhost:8080/",
          "height": 35
        },
        "id": "TiMOn6b9CSwG",
        "outputId": "1b319850-0c12-4b7f-9c2c-1f0b56ac6014"
      },
      "execution_count": 24,
      "outputs": [
        {
          "output_type": "execute_result",
          "data": {
            "text/plain": [
              "'এই পাপন সভাপতি হওয়ার পর থেকে ক্রিকেটের দুরবস্থা'"
            ],
            "application/vnd.google.colaboratory.intrinsic+json": {
              "type": "string"
            }
          },
          "metadata": {},
          "execution_count": 24
        }
      ]
    },
    {
      "cell_type": "code",
      "source": [
        "from bnlp.corpus import stopwords\n",
        "from bnlp.corpus.util import remove_stopwords\n",
        "\n",
        "result = remove_stopwords(df.sentence[2], stopwords)\n",
        "result"
      ],
      "metadata": {
        "colab": {
          "base_uri": "https://localhost:8080/"
        },
        "id": "mNfHwq22DN82",
        "outputId": "49ca6f97-f194-4952-db2d-428c15c2eafd"
      },
      "execution_count": 25,
      "outputs": [
        {
          "output_type": "execute_result",
          "data": {
            "text/plain": [
              "['পাপন', 'সভাপতি', 'হওয়ার', 'ক্রিকেটের', 'দুরবস্থা']"
            ]
          },
          "metadata": {},
          "execution_count": 25
        }
      ]
    },
    {
      "cell_type": "code",
      "source": [
        "df.sentence[3]"
      ],
      "metadata": {
        "colab": {
          "base_uri": "https://localhost:8080/",
          "height": 35
        },
        "id": "iiOu43LJDTJA",
        "outputId": "8dae8148-97c4-4230-c27b-67009532381c"
      },
      "execution_count": 26,
      "outputs": [
        {
          "output_type": "execute_result",
          "data": {
            "text/plain": [
              "'ধন্যবাদ বিবিসি বাংলাকে নির্যাতিত সাংবাদিকদের পাশে থাকার জন্য'"
            ],
            "application/vnd.google.colaboratory.intrinsic+json": {
              "type": "string"
            }
          },
          "metadata": {},
          "execution_count": 26
        }
      ]
    },
    {
      "cell_type": "code",
      "source": [
        "result = remove_stopwords(df.sentence[3], stopwords)\n",
        "a = [bn_stemmer.stem(word) for word in result] \n",
        "a"
      ],
      "metadata": {
        "colab": {
          "base_uri": "https://localhost:8080/"
        },
        "id": "-18VQ64ZDVLK",
        "outputId": "78ccada6-2b46-4740-e442-d03822af1132"
      },
      "execution_count": 27,
      "outputs": [
        {
          "output_type": "execute_result",
          "data": {
            "text/plain": [
              "['ধন্যবাদ', 'বিবিসি', 'বাংলা', 'নির্যাতিত', 'সাংবাদিক', 'পাশ', 'থাক']"
            ]
          },
          "metadata": {},
          "execution_count": 27
        }
      ]
    },
    {
      "cell_type": "code",
      "source": [
        "import regex as re\n",
        "re.sub('[^\\u0980-\\u09FF]',' ', str(df.sentence[50]))"
      ],
      "metadata": {
        "colab": {
          "base_uri": "https://localhost:8080/",
          "height": 35
        },
        "id": "PWe-iUGHDZc0",
        "outputId": "e2d0a74d-9624-4bb0-ec7e-d4d0168523b7"
      },
      "execution_count": 28,
      "outputs": [
        {
          "output_type": "execute_result",
          "data": {
            "text/plain": [
              "'লাইন গ্যাসে মিটার বসালে আর না হয় সব গ্যাস বোতল জাত করা হলে অপচয় কিছুটা হলে রোধ পাবে'"
            ],
            "application/vnd.google.colaboratory.intrinsic+json": {
              "type": "string"
            }
          },
          "metadata": {},
          "execution_count": 28
        }
      ]
    },
    {
      "cell_type": "code",
      "source": [
        "from bnltk.tokenize import Tokenizers\n",
        "\n",
        "from bnlp.corpus import stopwords\n",
        "from bnlp.corpus.util import remove_stopwords\n",
        "\n",
        "from bnltk.stemmer import BanglaStemmer\n",
        "bn_stemmer = BanglaStemmer()\n",
        "tokenizer = Tokenizers()\n",
        "\n",
        "text_final = []\n",
        "\n",
        "for i in range(len(df[\"sentence\"])):\n",
        "    \n",
        "    punc_less = re.sub('[^\\u0980-\\u09FF]',' ',str(df.sentence[i])) #removing unnecessary punctuation\n",
        "\n",
        "    result = remove_stopwords(punc_less, stopwords)\n",
        "    \n",
        "    sentence_final_words = [bn_stemmer.stem(word) for word in result] \n",
        "    \n",
        "    final_txt = ' '.join(sentence_final_words)\n",
        "    \n",
        "    text_final.append(final_txt)"
      ],
      "metadata": {
        "id": "T-q-i8RjDl-h"
      },
      "execution_count": 29,
      "outputs": []
    },
    {
      "cell_type": "code",
      "source": [
        "text_final[6]"
      ],
      "metadata": {
        "colab": {
          "base_uri": "https://localhost:8080/",
          "height": 53
        },
        "id": "o6TPhoxEDr43",
        "outputId": "6836ca58-27af-43a8-e773-5bdc7056be42"
      },
      "execution_count": 30,
      "outputs": [
        {
          "output_type": "execute_result",
          "data": {
            "text/plain": [
              "'ভাইর এ একটু আইন প্রনয়ন হোকবেশি বিজ্ঞাপন অনুষ্ঠান মন দি যায়নাঅতিরিক্ত বিজ্ঞাপন কারন মন যায়ভিন্ন আরেক চ্যানেলেঅতঃপর কোন মজা থাকেনা এক কথা অনুষ্ঠান সুন্দর বিজ্ঞাপন একটু কমি দিনবাংলা চাযা বিজ্ঞাপন দেখি অনুষ্ঠান দেখিনা'"
            ],
            "application/vnd.google.colaboratory.intrinsic+json": {
              "type": "string"
            }
          },
          "metadata": {},
          "execution_count": 30
        }
      ]
    },
    {
      "cell_type": "code",
      "source": [
        "df.sentence[6]"
      ],
      "metadata": {
        "colab": {
          "base_uri": "https://localhost:8080/",
          "height": 53
        },
        "id": "DHipXHs9Dvxl",
        "outputId": "cb7cf408-0ac6-42a4-a161-c6bd5cbd56ce"
      },
      "execution_count": 31,
      "outputs": [
        {
          "output_type": "execute_result",
          "data": {
            "text/plain": [
              "'ভাইরে এটার ব্যাপারে একটু নতুন আইন প্রনয়ন করা হোকবেশি বিজ্ঞাপনে একটি অনুষ্ঠান মন দিয়ে দেখা যায়নাঅতিরিক্ত বিজ্ঞাপনের কারনে মন চলে যায়ভিন্ন আরেকটি চ্যানেলেঅতঃপর কোনটার মজাই থাকেনা এক কথায় অনুষ্ঠান সুন্দর ভাবে দেখতে হলে বিজ্ঞাপন একটু কমিয়ে দিনবাংলা চ্যানেলে মনে হয় যেন বিজ্ঞাপন ই দেখি অনুষ্ঠান দেখিনা'"
            ],
            "application/vnd.google.colaboratory.intrinsic+json": {
              "type": "string"
            }
          },
          "metadata": {},
          "execution_count": 31
        }
      ]
    },
    {
      "cell_type": "code",
      "source": [
        "from sklearn.feature_extraction.text import TfidfVectorizer\n",
        "vectorizer = TfidfVectorizer()\n",
        "train_vectorize_data = vectorizer.fit_transform(text_final).toarray()"
      ],
      "metadata": {
        "id": "mo8Oc1r8D0eP"
      },
      "execution_count": 32,
      "outputs": []
    },
    {
      "cell_type": "code",
      "source": [
        "np.all(train_vectorize_data[::] >= 0 )"
      ],
      "metadata": {
        "colab": {
          "base_uri": "https://localhost:8080/"
        },
        "id": "UUjhzYrSD7lD",
        "outputId": "de9dbe14-5a9e-4c00-d3c4-888ffd96f758"
      },
      "execution_count": 33,
      "outputs": [
        {
          "output_type": "execute_result",
          "data": {
            "text/plain": [
              "True"
            ]
          },
          "metadata": {},
          "execution_count": 33
        }
      ]
    },
    {
      "cell_type": "code",
      "source": [
        "np.any(train_vectorize_data[::] >=1 )"
      ],
      "metadata": {
        "colab": {
          "base_uri": "https://localhost:8080/"
        },
        "id": "tAHflHJbD_Ms",
        "outputId": "0fa6e0d6-0cc6-4a69-96a0-2efafd09a77c"
      },
      "execution_count": 34,
      "outputs": [
        {
          "output_type": "execute_result",
          "data": {
            "text/plain": [
              "True"
            ]
          },
          "metadata": {},
          "execution_count": 34
        }
      ]
    },
    {
      "cell_type": "code",
      "source": [
        "feature_names = vectorizer.get_feature_names_out()\n",
        "feature_names"
      ],
      "metadata": {
        "colab": {
          "base_uri": "https://localhost:8080/"
        },
        "id": "IyUmMNw0ECYD",
        "outputId": "a0b6878e-6660-4d22-8aa7-fa31acf1b23e"
      },
      "execution_count": 35,
      "outputs": [
        {
          "output_type": "execute_result",
          "data": {
            "text/plain": [
              "array(['অইখ', 'অইগ', 'অইবন', ..., 'ৱত', 'ৱন', 'ৱয়'], dtype=object)"
            ]
          },
          "metadata": {},
          "execution_count": 35
        }
      ]
    },
    {
      "cell_type": "code",
      "source": [
        "len(feature_names)"
      ],
      "metadata": {
        "colab": {
          "base_uri": "https://localhost:8080/"
        },
        "id": "OxW4rbGWEiP-",
        "outputId": "5d78e1fe-9a36-48e2-de87-14df30c0b94a"
      },
      "execution_count": 36,
      "outputs": [
        {
          "output_type": "execute_result",
          "data": {
            "text/plain": [
              "2896"
            ]
          },
          "metadata": {},
          "execution_count": 36
        }
      ]
    },
    {
      "cell_type": "markdown",
      "source": [
        "Split train data and test Data"
      ],
      "metadata": {
        "id": "mijZotxPEqb9"
      }
    },
    {
      "cell_type": "code",
      "source": [
        "from sklearn.model_selection import train_test_split\n",
        "\n",
        "X_train, X_valid, y_train, y_valid = train_test_split(train_vectorize_data, df.sentiment.values, test_size = 0.25, random_state = 42)"
      ],
      "metadata": {
        "id": "dhQDZo3wEnLi"
      },
      "execution_count": 37,
      "outputs": []
    },
    {
      "cell_type": "code",
      "source": [
        "X_train"
      ],
      "metadata": {
        "colab": {
          "base_uri": "https://localhost:8080/"
        },
        "id": "xvQGf5woEw_c",
        "outputId": "2b788e6f-3dd2-4916-a26e-e47aa424d3ec"
      },
      "execution_count": 38,
      "outputs": [
        {
          "output_type": "execute_result",
          "data": {
            "text/plain": [
              "array([[0., 0., 0., ..., 0., 0., 0.],\n",
              "       [0., 0., 0., ..., 0., 0., 0.],\n",
              "       [0., 0., 0., ..., 0., 0., 0.],\n",
              "       ...,\n",
              "       [0., 0., 0., ..., 0., 0., 0.],\n",
              "       [0., 0., 0., ..., 0., 0., 0.],\n",
              "       [0., 0., 0., ..., 0., 0., 0.]])"
            ]
          },
          "metadata": {},
          "execution_count": 38
        }
      ]
    },
    {
      "cell_type": "code",
      "source": [
        "y_train"
      ],
      "metadata": {
        "colab": {
          "base_uri": "https://localhost:8080/"
        },
        "id": "yugMK1CSE191",
        "outputId": "29800426-1c8c-4803-a91f-99d1d40d418c"
      },
      "execution_count": 39,
      "outputs": [
        {
          "output_type": "execute_result",
          "data": {
            "text/plain": [
              "array([0, 0, 1, ..., 1, 0, 0])"
            ]
          },
          "metadata": {},
          "execution_count": 39
        }
      ]
    },
    {
      "cell_type": "markdown",
      "source": [
        "Build the model"
      ],
      "metadata": {
        "id": "DOTqRzHsE9gR"
      }
    },
    {
      "cell_type": "code",
      "source": [
        "from sklearn.metrics import classification_report, confusion_matrix, accuracy_score\n",
        "\n",
        "from sklearn.naive_bayes import MultinomialNB\n",
        "\n",
        "sentiment_detection_model = MultinomialNB().fit(X_train, y_train)\n",
        "y_pred = sentiment_detection_model.predict(X_valid)\n",
        "\n",
        "print(\"Report :\\n\" , classification_report(y_valid,y_pred))\n",
        "\n",
        "print(\" Confussion Matrix :\\n\" , confusion_matrix(y_valid,y_pred))\n",
        "\n",
        "print(\"Accuracy : \", accuracy_score(y_valid, y_pred)*100 , \"%\")\n"
      ],
      "metadata": {
        "colab": {
          "base_uri": "https://localhost:8080/"
        },
        "id": "V21cSypGE5vl",
        "outputId": "6cc5ca56-2b8c-4668-fcf2-2c98663504ae"
      },
      "execution_count": 40,
      "outputs": [
        {
          "output_type": "stream",
          "name": "stdout",
          "text": [
            "Report :\n",
            "               precision    recall  f1-score   support\n",
            "\n",
            "           0       0.65      0.84      0.73       912\n",
            "           1       0.70      0.45      0.55       751\n",
            "\n",
            "    accuracy                           0.66      1663\n",
            "   macro avg       0.67      0.65      0.64      1663\n",
            "weighted avg       0.67      0.66      0.65      1663\n",
            "\n",
            " Confussion Matrix :\n",
            " [[765 147]\n",
            " [412 339]]\n",
            "Accuracy :  66.38604930847866 %\n"
          ]
        }
      ]
    },
    {
      "cell_type": "code",
      "source": [
        "from sklearn.svm import SVC,LinearSVC"
      ],
      "metadata": {
        "id": "Kh0xZz6BF2YY"
      },
      "execution_count": 41,
      "outputs": []
    },
    {
      "cell_type": "code",
      "source": [
        "svc = LinearSVC()\n",
        "svc.fit(X_train, y_train)\n",
        "\n",
        "# Make predictions on the test set\n",
        "y_pred = svc.predict(X_valid)\n",
        "\n",
        "# Evaluate the model\n",
        "accuracy = accuracy_score(y_valid, y_pred)\n",
        "report = classification_report(y_valid, y_pred)\n",
        "\n",
        "print(\"Accuracy:\", accuracy)\n",
        "print(\"Classification Report:\\n\", report)"
      ],
      "metadata": {
        "colab": {
          "base_uri": "https://localhost:8080/"
        },
        "id": "2ulNhCLDGTKb",
        "outputId": "73d93a13-06e6-4cdf-d93f-9113c5df7892"
      },
      "execution_count": 42,
      "outputs": [
        {
          "output_type": "stream",
          "name": "stdout",
          "text": [
            "Accuracy: 0.6470234515935057\n",
            "Classification Report:\n",
            "               precision    recall  f1-score   support\n",
            "\n",
            "           0       0.65      0.77      0.71       912\n",
            "           1       0.64      0.50      0.56       751\n",
            "\n",
            "    accuracy                           0.65      1663\n",
            "   macro avg       0.65      0.63      0.63      1663\n",
            "weighted avg       0.65      0.65      0.64      1663\n",
            "\n"
          ]
        }
      ]
    },
    {
      "cell_type": "code",
      "source": [
        "import numpy as np\n",
        "from sklearn.feature_extraction.text import TfidfVectorizer\n",
        "from sklearn.model_selection import train_test_split\n",
        "from sklearn.ensemble import AdaBoostClassifier\n",
        "from sklearn.metrics import accuracy_score, classification_report\n",
        "from tensorflow.keras.models import Sequential\n",
        "from tensorflow.keras.layers import Embedding, LSTM, Dense\n",
        "from tensorflow.keras.preprocessing.sequence import pad_sequences"
      ],
      "metadata": {
        "id": "tkTL7MNmKTOL"
      },
      "execution_count": 43,
      "outputs": []
    },
    {
      "cell_type": "code",
      "source": [
        "# LSTM model\n",
        "embedding_dim = 100\n",
        "max_sequence_length = 100\n",
        "\n",
        "model = Sequential()\n",
        "model.add(Embedding(len(vectorizer.vocabulary_), embedding_dim, input_length=max_sequence_length))\n",
        "model.add(LSTM(100))\n",
        "model.add(Dense(1, activation='sigmoid'))\n",
        "\n",
        "model.compile(loss='binary_crossentropy', optimizer='adam', metrics=['accuracy'])"
      ],
      "metadata": {
        "id": "dMKPN15ZKXyE"
      },
      "execution_count": 44,
      "outputs": []
    },
    {
      "cell_type": "code",
      "source": [
        "# Convert text sequences to padded sequences\n",
        "X_train_pad = pad_sequences(X_train, maxlen=max_sequence_length)\n",
        "X_valid_pad = pad_sequences(X_valid, maxlen=max_sequence_length)\n",
        "\n",
        "# Train the LSTM model\n",
        "model.fit(X_train_pad, y_train, epochs=10, batch_size=32, verbose=1)\n"
      ],
      "metadata": {
        "colab": {
          "base_uri": "https://localhost:8080/"
        },
        "id": "IWKtabfMK7yt",
        "outputId": "4b1d6401-3ae8-496e-84b1-daf2864562aa"
      },
      "execution_count": 46,
      "outputs": [
        {
          "output_type": "stream",
          "name": "stdout",
          "text": [
            "Epoch 1/10\n",
            "156/156 [==============================] - 19s 97ms/step - loss: 0.6909 - accuracy: 0.5418\n",
            "Epoch 2/10\n",
            "156/156 [==============================] - 15s 97ms/step - loss: 0.6900 - accuracy: 0.5418\n",
            "Epoch 3/10\n",
            "156/156 [==============================] - 15s 97ms/step - loss: 0.6901 - accuracy: 0.5418\n",
            "Epoch 4/10\n",
            "156/156 [==============================] - 15s 98ms/step - loss: 0.6907 - accuracy: 0.5418\n",
            "Epoch 5/10\n",
            "156/156 [==============================] - 15s 97ms/step - loss: 0.6901 - accuracy: 0.5418\n",
            "Epoch 6/10\n",
            "156/156 [==============================] - 15s 98ms/step - loss: 0.6900 - accuracy: 0.5418\n",
            "Epoch 7/10\n",
            "156/156 [==============================] - 15s 97ms/step - loss: 0.6898 - accuracy: 0.5418\n",
            "Epoch 8/10\n",
            "156/156 [==============================] - 15s 97ms/step - loss: 0.6900 - accuracy: 0.5418\n",
            "Epoch 9/10\n",
            "156/156 [==============================] - 15s 98ms/step - loss: 0.6900 - accuracy: 0.5418\n",
            "Epoch 10/10\n",
            "156/156 [==============================] - 15s 98ms/step - loss: 0.6899 - accuracy: 0.5418\n"
          ]
        },
        {
          "output_type": "execute_result",
          "data": {
            "text/plain": [
              "<keras.callbacks.History at 0x7f354d33f190>"
            ]
          },
          "metadata": {},
          "execution_count": 46
        }
      ]
    },
    {
      "cell_type": "code",
      "source": [
        "# Make predictions using the LSTM model\n",
        "# y_pred_lstm = model.predict_classes(X_valid_pad).flatten()\n",
        "\n",
        "y_pred_lstm=model.predict(X_valid_pad) \n",
        "classes_x=np.argmax(y_pred_lstm, axis=1)"
      ],
      "metadata": {
        "colab": {
          "base_uri": "https://localhost:8080/"
        },
        "id": "p16SEQjrNSjE",
        "outputId": "46f1836b-804d-4213-c940-1f42481b7838"
      },
      "execution_count": 48,
      "outputs": [
        {
          "output_type": "stream",
          "name": "stdout",
          "text": [
            "52/52 [==============================] - 2s 24ms/step\n"
          ]
        }
      ]
    },
    {
      "cell_type": "code",
      "source": [
        "# AdaBoost classifier\n",
        "adaboost = AdaBoostClassifier(n_estimators=100)\n",
        "\n",
        "# Train the AdaBoost classifier\n",
        "adaboost.fit(X_train, y_train)\n",
        "\n",
        "# Make predictions using the AdaBoost classifier\n",
        "y_pred_adaboost = adaboost.predict(X_valid)"
      ],
      "metadata": {
        "id": "otCfuR_VOXV9"
      },
      "execution_count": 49,
      "outputs": []
    },
    {
      "cell_type": "code",
      "source": [
        "y_pred_combined = np.concatenate((y_pred_lstm.reshape(-1, 1), y_pred_adaboost.reshape(-1, 1)), axis=1)\n",
        "\n",
        "# Take the mode of the combined predictions\n",
        "y_pred_combined = np.argmax(y_pred_combined, axis=1)\n",
        "\n",
        "# Calculate accuracy for the combined predictions\n",
        "accuracy = accuracy_score(y_valid, y_pred_combined)\n",
        "\n",
        "# Generate classification report for the combined predictions\n",
        "report = classification_report(y_valid, y_pred_combined)\n",
        "\n",
        "print(\"Accuracy:\", accuracy)\n",
        "print(\"Classification Report:\\n\", report)"
      ],
      "metadata": {
        "colab": {
          "base_uri": "https://localhost:8080/"
        },
        "id": "6_QX5jI7RHGy",
        "outputId": "e746bad5-4409-455d-89ae-d9beef4676c0"
      },
      "execution_count": 63,
      "outputs": [
        {
          "output_type": "stream",
          "name": "stdout",
          "text": [
            "Accuracy: 0.6355983162958508\n",
            "Classification Report:\n",
            "               precision    recall  f1-score   support\n",
            "\n",
            "           0       0.63      0.83      0.71       912\n",
            "           1       0.66      0.40      0.50       751\n",
            "\n",
            "    accuracy                           0.64      1663\n",
            "   macro avg       0.64      0.61      0.61      1663\n",
            "weighted avg       0.64      0.64      0.62      1663\n",
            "\n"
          ]
        }
      ]
    },
    {
      "cell_type": "code",
      "source": [
        "import pickle\n",
        "with open('sentiment_detection_model','wb') as file:\n",
        "    pickle.dump(sentiment_detection_model,file)\n",
        "\n",
        "with open('sentiment_detection_model','rb') as file:\n",
        "    model = pickle.load(file)"
      ],
      "metadata": {
        "id": "3pZshaBdFdx6"
      },
      "execution_count": null,
      "outputs": []
    },
    {
      "cell_type": "code",
      "source": [
        "def classifyNB(text):\n",
        "  X = vectorizer.transform([text]).toarray()\n",
        "  y_pred = model.predict(X)\n",
        "  if y_pred ==1:\n",
        "    return \"Positive\"\n",
        "  else:\n",
        "    return \"Negative\""
      ],
      "metadata": {
        "id": "EPPOoqB_Ff_J"
      },
      "execution_count": null,
      "outputs": []
    },
    {
      "cell_type": "code",
      "source": [
        "text = \"একজন ভালো মানুষ\"\n",
        "# text = \"পাপন একজন ভালো সভাপতি\"\n",
        "\n",
        "out = classifyNB(text)\n",
        "print(out)\n"
      ],
      "metadata": {
        "colab": {
          "base_uri": "https://localhost:8080/"
        },
        "id": "52SsySmzFm32",
        "outputId": "4553993c-23ec-441d-fbfe-0eb2c3da32b7"
      },
      "execution_count": null,
      "outputs": [
        {
          "output_type": "stream",
          "name": "stdout",
          "text": [
            "Positive\n"
          ]
        }
      ]
    },
    {
      "cell_type": "markdown",
      "source": [
        "trying Adaboost,lstm model"
      ],
      "metadata": {
        "id": "gqkKlHENQd1y"
      }
    },
    {
      "cell_type": "code",
      "source": [
        "from sklearn.ensemble import AdaBoostClassifier"
      ],
      "metadata": {
        "id": "E5aIBjRzSspd"
      },
      "execution_count": null,
      "outputs": []
    },
    {
      "cell_type": "code",
      "source": [
        "adaboost = AdaBoostClassifier(n_estimators=100, learning_rate=0.1)"
      ],
      "metadata": {
        "id": "j98KGYiaSyMl"
      },
      "execution_count": null,
      "outputs": []
    },
    {
      "cell_type": "code",
      "source": [
        "sentiModel=adaboost.fit(X_train,y_train)"
      ],
      "metadata": {
        "id": "yiMYEE58UEuJ"
      },
      "execution_count": null,
      "outputs": []
    },
    {
      "cell_type": "code",
      "source": [
        "y_pred=sentiModel.predict(X_valid)"
      ],
      "metadata": {
        "id": "AusR9x77UgCT"
      },
      "execution_count": null,
      "outputs": []
    },
    {
      "cell_type": "code",
      "source": [
        "from sklearn.metrics import classification_report, confusion_matrix, accuracy_score"
      ],
      "metadata": {
        "id": "CghO88GVVDHa"
      },
      "execution_count": null,
      "outputs": []
    },
    {
      "cell_type": "code",
      "source": [
        "print(\" Confussion Matrix :\\n\" , confusion_matrix(y_valid,y_pred))\n",
        "\n",
        "print(\"Accuracy : \", accuracy_score(y_valid, y_pred)*100 , \"%\")"
      ],
      "metadata": {
        "id": "seCAewO4VE9M",
        "outputId": "21bd9180-4fbf-4b67-a396-d40092ac104b",
        "colab": {
          "base_uri": "https://localhost:8080/"
        }
      },
      "execution_count": null,
      "outputs": [
        {
          "output_type": "stream",
          "name": "stdout",
          "text": [
            " Confussion Matrix :\n",
            " [[856  56]\n",
            " [553 198]]\n",
            "Accuracy :  63.37943475646423 %\n"
          ]
        }
      ]
    }
  ]
}